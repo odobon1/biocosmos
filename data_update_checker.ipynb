{
 "cells": [
  {
   "cell_type": "code",
   "execution_count": 1,
   "id": "fa97303e-da11-412d-87bc-932451e3f0c7",
   "metadata": {
    "tags": []
   },
   "outputs": [],
   "source": [
    "import os\n",
    "from collections import Counter\n",
    "from tqdm import tqdm\n",
    "\n",
    "from utils import dirpath_biocosmos, read_pickle, write_pickle"
   ]
  },
  {
   "cell_type": "markdown",
   "id": "b20d598d-0682-454e-9b4e-cda0257dcb93",
   "metadata": {},
   "source": [
    "# Image directories checkup"
   ]
  },
  {
   "cell_type": "markdown",
   "id": "7846a66e-8807-46f2-a0ff-3394427582b3",
   "metadata": {},
   "source": [
    "### Load up current image directory names"
   ]
  },
  {
   "cell_type": "code",
   "execution_count": 2,
   "id": "a720fe5b-a279-4ebe-9580-c36fc9ef7106",
   "metadata": {
    "tags": []
   },
   "outputs": [],
   "source": [
    "dirpath_img_dirs_curr = dirpath_biocosmos / \"data/datasets/nymphalidae_whole_specimen-v240606/images\"\n",
    "img_dirs_curr = [name for name in os.listdir(dirpath_img_dirs_curr)]"
   ]
  },
  {
   "cell_type": "markdown",
   "id": "c4f38857-2813-4b5e-85a5-59f804ca0bb6",
   "metadata": {},
   "source": [
    "### Check underscore counts in current image directory names (should be 1 underscore per directory name) ~ was last Counter({1: 3796})"
   ]
  },
  {
   "cell_type": "code",
   "execution_count": 3,
   "id": "6af354f0-ded5-4fed-92fe-477c0871cb02",
   "metadata": {
    "tags": []
   },
   "outputs": [
    {
     "data": {
      "text/plain": [
       "Counter({1: 3796})"
      ]
     },
     "execution_count": 3,
     "metadata": {},
     "output_type": "execute_result"
    }
   ],
   "source": [
    "counts = Counter((s.count(\"_\") for s in img_dirs_curr))\n",
    "counts"
   ]
  },
  {
   "cell_type": "markdown",
   "id": "31c2af6c-2435-4bb2-93af-a9dcacab4073",
   "metadata": {},
   "source": [
    "### Print off all dirs that have 1. nothing to the left or right of underscore, or 2. non-alphabetic chars (other than underscore) -- these are what are currently considered \"unknown\" image dirs i.e. species (except 1. polygonia_c-aureum 2. polygonia_c-album 3. nymphalis_l-album)"
   ]
  },
  {
   "cell_type": "code",
   "execution_count": 4,
   "id": "6f88fb1f-9787-4d71-aed2-38ab452ae490",
   "metadata": {
    "tags": []
   },
   "outputs": [
    {
     "name": "stdout",
     "output_type": "stream",
     "text": [
      "neorina_sp.\n",
      "magneuptychia_spn4\n",
      "euptychia_spn2\n",
      "polygonia_c-aureum\n",
      "praepedaliodes_sp.\n",
      "prepona_\n",
      "euriphene_tadema?\n",
      "zaretis_\n",
      "polygonia_c-album\n",
      "nymphalis_l-album\n",
      "pedaliodes_spn117\n"
     ]
    }
   ],
   "source": [
    "for s in img_dirs_curr:\n",
    "    left, right = s.split(\"_\", 1)\n",
    "    \n",
    "    if not left or not right:\n",
    "        print(s)\n",
    "        continue\n",
    "        \n",
    "    for ch in s:\n",
    "        if not (ch.isalpha() or ch == \"_\"):\n",
    "            print(s)\n",
    "            break"
   ]
  },
  {
   "cell_type": "markdown",
   "id": "f094a38a-9ae6-4986-8dc6-cb3a245bdbdb",
   "metadata": {
    "tags": []
   },
   "source": [
    "### Load up current image directory names stored in metadata files"
   ]
  },
  {
   "cell_type": "code",
   "execution_count": 5,
   "id": "1b637e32-a236-4a4b-ade5-f4b37a1144ab",
   "metadata": {
    "tags": []
   },
   "outputs": [],
   "source": [
    "filepath_img_dirs = dirpath_biocosmos / \"odobon3.gatech/biocosmos/metadata/img_dirs/all.pkl\"\n",
    "img_dirs = read_pickle(filepath_img_dirs)"
   ]
  },
  {
   "cell_type": "markdown",
   "id": "30486dee-6c90-4dba-a6c3-0663bcdb5989",
   "metadata": {},
   "source": [
    "### Species names that are in `img_dirs_curr` but not in `img_dirs`"
   ]
  },
  {
   "cell_type": "code",
   "execution_count": 6,
   "id": "c01fa6d5-ffee-4dd7-b6e0-1f05f3f4e2cf",
   "metadata": {
    "tags": []
   },
   "outputs": [],
   "source": [
    "for s in img_dirs_curr:\n",
    "    if s not in img_dirs:\n",
    "        print(s)"
   ]
  },
  {
   "cell_type": "markdown",
   "id": "dd3e6f0b-c267-423f-b015-4adf522042cf",
   "metadata": {},
   "source": [
    "### Species names that are in `img_dirs` but not in `img_dirs_curr`"
   ]
  },
  {
   "cell_type": "code",
   "execution_count": 7,
   "id": "06f8e50e-9b00-479c-a6ba-7d333e3060fa",
   "metadata": {
    "tags": []
   },
   "outputs": [],
   "source": [
    "for s in img_dirs:\n",
    "    if s not in img_dirs_curr:\n",
    "        print(s)"
   ]
  },
  {
   "cell_type": "markdown",
   "id": "45b45632-677d-4a0f-ae6c-107e491b5521",
   "metadata": {},
   "source": [
    "# Metadata checkup"
   ]
  },
  {
   "cell_type": "code",
   "execution_count": null,
   "id": "f4d6e026-f068-4d77-9322-9e7e88caebfd",
   "metadata": {},
   "outputs": [],
   "source": [
    "filepath_metadata = dirpath_biocosmos / \"data/datasets/nymphalidae_whole_specimen-v240606/metadata/data_meta-nymphalidae_whole_specimen-v240606.csv\"\n",
    "df_metadata = pd.read_csv(filepath_metadata)\n",
    "species_metadata = df_metadata[\"species\"].unique().tolist()  # list of unique species in metadata (formatting matches that of image dirs)"
   ]
  },
  {
   "cell_type": "markdown",
   "id": "50a49eb2-4dae-48dc-b97d-9ea56e9458bb",
   "metadata": {},
   "source": [
    "### Ensure there is only a single subfamily-genus-species pattern per species (prints off species if multiple are found)"
   ]
  },
  {
   "cell_type": "code",
   "execution_count": null,
   "id": "0ffc1127-df98-4cea-8a78-006c7ec6bfa0",
   "metadata": {},
   "outputs": [],
   "source": [
    "for s in tqdm(img_dirs):\n",
    "    if s in species_metadata:\n",
    "        single_tax = True\n",
    "        \n",
    "        dirpath_s = dirpath_img_dirs / s\n",
    "        df_metadata_s = df_metadata[df_metadata[\"species\"] == s]  # metadata subset on species\n",
    "        \n",
    "        if df_metadata_s[\"subfamily\"].nunique() > 1 or df_metadata_s[\"genus\"].nunique() > 1 or df_metadata_s[\"species\"].nunique() > 1:\n",
    "            print(s)"
   ]
  }
 ],
 "metadata": {
  "kernelspec": {
   "display_name": "Python 3 (ipykernel)",
   "language": "python",
   "name": "python3"
  },
  "language_info": {
   "codemirror_mode": {
    "name": "ipython",
    "version": 3
   },
   "file_extension": ".py",
   "mimetype": "text/x-python",
   "name": "python",
   "nbconvert_exporter": "python",
   "pygments_lexer": "ipython3",
   "version": "3.10.12"
  }
 },
 "nbformat": 4,
 "nbformat_minor": 5
}
