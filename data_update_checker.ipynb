{
 "cells": [
  {
   "cell_type": "code",
   "execution_count": 1,
   "id": "fa97303e-da11-412d-87bc-932451e3f0c7",
   "metadata": {
    "tags": []
   },
   "outputs": [],
   "source": [
    "import os\n",
    "from collections import Counter\n",
    "from tqdm import tqdm\n",
    "import pandas as pd\n",
    "\n",
    "from utils import paths, read_pickle, write_pickle"
   ]
  },
  {
   "cell_type": "markdown",
   "id": "b20d598d-0682-454e-9b4e-cda0257dcb93",
   "metadata": {},
   "source": [
    "# Image directories checkup"
   ]
  },
  {
   "cell_type": "markdown",
   "id": "7846a66e-8807-46f2-a0ff-3394427582b3",
   "metadata": {},
   "source": [
    "### Load up current image directory names"
   ]
  },
  {
   "cell_type": "code",
   "execution_count": 2,
   "id": "a720fe5b-a279-4ebe-9580-c36fc9ef7106",
   "metadata": {
    "tags": []
   },
   "outputs": [],
   "source": [
    "dirpath_sids_curr = paths[\"nymph\"] / \"images\"\n",
    "sids_curr = [sid for sid in os.listdir(dirpath_sids_curr)]"
   ]
  },
  {
   "cell_type": "markdown",
   "id": "c4f38857-2813-4b5e-85a5-59f804ca0bb6",
   "metadata": {},
   "source": [
    "### Check underscore counts in current image directory names (should be 1 underscore per directory name) ~ was last Counter({1: 3796})"
   ]
  },
  {
   "cell_type": "code",
   "execution_count": 3,
   "id": "6af354f0-ded5-4fed-92fe-477c0871cb02",
   "metadata": {
    "tags": []
   },
   "outputs": [
    {
     "data": {
      "text/plain": [
       "Counter({1: 3755})"
      ]
     },
     "execution_count": 3,
     "metadata": {},
     "output_type": "execute_result"
    }
   ],
   "source": [
    "counts = Counter((sid.count(\"_\") for sid in sids_curr))\n",
    "counts"
   ]
  },
  {
   "cell_type": "markdown",
   "id": "31c2af6c-2435-4bb2-93af-a9dcacab4073",
   "metadata": {},
   "source": [
    "### Print off all dirs that have 1. nothing to the left or right of underscore, or 2. non-alphabetic chars (other than underscore) -- these are what are currently considered \"unknown\" image dirs i.e. species (except 1. polygonia_c-aureum 2. polygonia_c-album 3. nymphalis_l-album)"
   ]
  },
  {
   "cell_type": "code",
   "execution_count": 4,
   "id": "6f88fb1f-9787-4d71-aed2-38ab452ae490",
   "metadata": {
    "tags": []
   },
   "outputs": [
    {
     "name": "stdout",
     "output_type": "stream",
     "text": [
      "polygonia_c-aureum\n",
      "nymphalis_l-album\n",
      "zaretis_\n",
      "polygonia_c-album\n",
      "euptychia_spn2\n",
      "neorina_sp.\n",
      "pedaliodes_spn117\n",
      "praepedaliodes_sp.\n",
      "prepona_\n",
      "magneuptychia_spn4\n",
      "euriphene_tadema?\n"
     ]
    }
   ],
   "source": [
    "for sid in sids_curr:\n",
    "    left, right = sid.split(\"_\", 1)\n",
    "    \n",
    "    if not left or not right:\n",
    "        print(sid)\n",
    "        continue\n",
    "        \n",
    "    for ch in sid:\n",
    "        if not (ch.isalpha() or ch == \"_\"):\n",
    "            print(sid)\n",
    "            break"
   ]
  },
  {
   "cell_type": "markdown",
   "id": "f094a38a-9ae6-4986-8dc6-cb3a245bdbdb",
   "metadata": {
    "tags": []
   },
   "source": [
    "### Load up current image directory names stored in metadata files"
   ]
  },
  {
   "cell_type": "code",
   "execution_count": 5,
   "id": "1b637e32-a236-4a4b-ade5-f4b37a1144ab",
   "metadata": {
    "tags": []
   },
   "outputs": [],
   "source": [
    "sids = read_pickle(paths[\"metadata_o\"] / \"species_ids/all.pkl\")"
   ]
  },
  {
   "cell_type": "markdown",
   "id": "30486dee-6c90-4dba-a6c3-0663bcdb5989",
   "metadata": {},
   "source": [
    "### Species names that are in `sids_curr` but not in `sids`"
   ]
  },
  {
   "cell_type": "code",
   "execution_count": 6,
   "id": "c01fa6d5-ffee-4dd7-b6e0-1f05f3f4e2cf",
   "metadata": {
    "tags": []
   },
   "outputs": [],
   "source": [
    "for sid in sids_curr:\n",
    "    if sid not in sids:\n",
    "        print(sid)"
   ]
  },
  {
   "cell_type": "markdown",
   "id": "dd3e6f0b-c267-423f-b015-4adf522042cf",
   "metadata": {},
   "source": [
    "### Species names that are in `sids` but not in `sids_curr`"
   ]
  },
  {
   "cell_type": "code",
   "execution_count": 7,
   "id": "06f8e50e-9b00-479c-a6ba-7d333e3060fa",
   "metadata": {
    "tags": []
   },
   "outputs": [
    {
     "name": "stdout",
     "output_type": "stream",
     "text": [
      "oleria_sexmaculata\n",
      "euriphene_amicia\n",
      "marpesia_egina\n",
      "yphthimoides_ochracea\n",
      "prothoe_franckii\n",
      "karanasa_talastauana\n",
      "doxocopa_thoe\n",
      "caligo_memnon\n",
      "scada_kusa\n",
      "morpho_zephyritis\n",
      "daedalma_palacio\n",
      "anaea_schausiana\n",
      "hypoleria_alema\n",
      "fountainea_nobilis\n",
      "oleria_antaxis\n",
      "polyura_kadenii\n",
      "stichophthalma_sparta\n",
      "morpho_iphitus\n",
      "cymothoe_ochreata\n",
      "tanaecia_calliphorus\n",
      "mechanitis_isthmia\n",
      "morpho_granadensis\n",
      "scada_reckia\n",
      "protogoniomorpha_duprei\n",
      "euriphene_grosesmithi\n",
      "stichophthalma_cambodia\n",
      "hyalyris_fiammetta\n",
      "aldania_thisbe\n",
      "parantica_toxopei\n",
      "euriphene_milnei\n",
      "polyura_clitarchus\n",
      "maniola_chia\n",
      "aremfoxia_ferra\n",
      "lexias_aegle\n",
      "morpho_crameri\n",
      "prepona_dexamenes\n",
      "acraea_buttneri\n",
      "bebearia_cinaethon\n",
      "bebearia_cottoni\n",
      "pteronymia_obsurata\n",
      "morpho_subtusfemina\n"
     ]
    }
   ],
   "source": [
    "for sid in sids:\n",
    "    if sid not in sids_curr:\n",
    "        print(sid)"
   ]
  },
  {
   "cell_type": "markdown",
   "id": "45b45632-677d-4a0f-ae6c-107e491b5521",
   "metadata": {},
   "source": [
    "# Metadata checkup"
   ]
  },
  {
   "cell_type": "code",
   "execution_count": 8,
   "id": "f4d6e026-f068-4d77-9322-9e7e88caebfd",
   "metadata": {},
   "outputs": [
    {
     "name": "stderr",
     "output_type": "stream",
     "text": [
      "/scratch/local/5551865/ipykernel_3877236/1590620780.py:2: DtypeWarning: Columns (7) have mixed types. Specify dtype option on import or set low_memory=False.\n",
      "  df_metadata = pd.read_csv(filepath_metadata)\n"
     ]
    }
   ],
   "source": [
    "df_metadata = pd.read_csv(paths[\"nymph_metadata\"])\n",
    "unique_species = df_metadata[\"species\"].unique().tolist()  # list of unique species in metadata (formatting matches that of image dirs)"
   ]
  },
  {
   "cell_type": "markdown",
   "id": "50a49eb2-4dae-48dc-b97d-9ea56e9458bb",
   "metadata": {},
   "source": [
    "### Ensure there is only a single subfamily-genus-species pattern per species (prints off species if multiple are found)"
   ]
  },
  {
   "cell_type": "code",
   "execution_count": 10,
   "id": "0ffc1127-df98-4cea-8a78-006c7ec6bfa0",
   "metadata": {},
   "outputs": [
    {
     "name": "stderr",
     "output_type": "stream",
     "text": [
      "100%|██████████| 3796/3796 [00:54<00:00, 70.04it/s]\n"
     ]
    }
   ],
   "source": [
    "for sid in tqdm(sids):\n",
    "    if sid in unique_species:\n",
    "        single_tax = True\n",
    "        \n",
    "        dirpath_sid = dirpath_sids_curr / sid\n",
    "        df_metadata_sid = df_metadata[df_metadata[\"species\"] == sid]  # metadata subset on species\n",
    "        \n",
    "        if df_metadata_sid[\"subfamily\"].nunique() > 1 or df_metadata_sid[\"genus\"].nunique() > 1 or df_metadata_sid[\"species\"].nunique() > 1:\n",
    "            print(sid)"
   ]
  },
  {
   "cell_type": "code",
   "execution_count": null,
   "id": "1c126779",
   "metadata": {},
   "outputs": [],
   "source": []
  }
 ],
 "metadata": {
  "kernelspec": {
   "display_name": "Python 3 (ipykernel)",
   "language": "python",
   "name": "python3"
  },
  "language_info": {
   "codemirror_mode": {
    "name": "ipython",
    "version": 3
   },
   "file_extension": ".py",
   "mimetype": "text/x-python",
   "name": "python",
   "nbconvert_exporter": "python",
   "pygments_lexer": "ipython3",
   "version": "3.10.18"
  }
 },
 "nbformat": 4,
 "nbformat_minor": 5
}
