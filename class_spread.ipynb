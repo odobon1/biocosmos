{
 "cells": [
  {
   "cell_type": "code",
   "execution_count": null,
   "metadata": {},
   "outputs": [],
   "source": [
    "import torch\n",
    "# monkey-patch modeling_utils safety check\n",
    "import transformers.modeling_utils as _mu\n",
    "_mu.check_torch_load_is_safe = lambda *args, **kwargs: None\n",
    "\n",
    "import glob\n",
    "from PIL import Image\n",
    "import torch.nn.functional as F\n",
    "import matplotlib.pyplot as plt\n",
    "\n",
    "from utils import paths, read_pickle, write_pickle\n",
    "from models import CLIPWrapper\n"
   ]
  },
  {
   "cell_type": "code",
   "execution_count": null,
   "metadata": {},
   "outputs": [],
   "source": [
    "device = torch.device(\"cuda\" if torch.cuda.is_available() else \"cpu\")\n",
    "model = CLIPWrapper(\"bioclip\", device)"
   ]
  },
  {
   "cell_type": "code",
   "execution_count": null,
   "metadata": {},
   "outputs": [],
   "source": [
    "def display_img_sim(rfpath_sim_tup):\n",
    "\n",
    "    cos_sim = rfpath_sim_tup[0]\n",
    "    rfpath_img = rfpath_sim_tup[1]\n",
    "\n",
    "    ffpath_img = paths[\"nymph_imgs\"] / rfpath_img\n",
    "\n",
    "    print(f\"Cos. Sim. w/ Class Centroid: {cos_sim:.4f}\")\n",
    "\n",
    "    img = Image.open(ffpath_img)\n",
    "\n",
    "    plt.figure(figsize=(3, 3))\n",
    "    plt.imshow(img)\n",
    "    plt.axis(\"off\")   # turn off axes ticks/labels\n",
    "    plt.show()"
   ]
  },
  {
   "cell_type": "code",
   "execution_count": null,
   "metadata": {},
   "outputs": [],
   "source": [
    "sid = \"junonia_orithya\"\n",
    "num_imgs_ends = 3\n",
    "\n",
    "dpath_imgs_sid = paths[\"nymph_imgs\"] / sid\n",
    "ffpaths_png    = glob.glob(f\"{dpath_imgs_sid}/*.png\")\n",
    "rfpaths_png    = [png_file.split(\"images/\", 1)[1] for png_file in ffpaths_png]  # full filepath --> relative filepath\n",
    "\n",
    "imgs = []\n",
    "for rfpath in rfpaths_png:\n",
    "    img   = Image.open(paths[\"nymph_imgs\"] / rfpath).convert(\"RGB\")\n",
    "    img_t = model.img_pp(img)\n",
    "    imgs.append(img_t)\n",
    "\n",
    "imgs_tensor  = torch.stack(imgs, dim=0)\n",
    "embs_imgs    = model.embed_images(imgs_tensor)\n",
    "emb_centroid = embs_imgs.mean(dim=0)\n",
    "\n",
    "rfpath_sim_tups = []\n",
    "\n",
    "for i in range(len(rfpaths_png)):\n",
    "\n",
    "    rfpath_png = rfpaths_png[i]\n",
    "    emb_img    = embs_imgs[i]\n",
    "\n",
    "    cos_sim = torch.dot(emb_img, emb_centroid)\n",
    "    rfpath_sim_tups.append((cos_sim.item(), rfpath_png))\n",
    "\n",
    "rfpath_sim_tups.sort(key=lambda t: t[0], reverse=True)\n",
    "\n",
    "rfpath_sim_tups_closest  = rfpath_sim_tups[:num_imgs_ends]\n",
    "rfpath_sim_tups_furthest = rfpath_sim_tups[-num_imgs_ends:]\n",
    "\n",
    "for rfpath_sim_tup in rfpath_sim_tups_closest:\n",
    "    display_img_sim(rfpath_sim_tup)\n",
    "for rfpath_sim_tup in rfpath_sim_tups_furthest:\n",
    "    display_img_sim(rfpath_sim_tup)"
   ]
  },
  {
   "cell_type": "code",
   "execution_count": null,
   "metadata": {},
   "outputs": [],
   "source": []
  }
 ],
 "metadata": {
  "kernelspec": {
   "display_name": "biocosmos_o",
   "language": "python",
   "name": "python3"
  },
  "language_info": {
   "codemirror_mode": {
    "name": "ipython",
    "version": 3
   },
   "file_extension": ".py",
   "mimetype": "text/x-python",
   "name": "python",
   "nbconvert_exporter": "python",
   "pygments_lexer": "ipython3",
   "version": "3.10.18"
  }
 },
 "nbformat": 4,
 "nbformat_minor": 2
}
