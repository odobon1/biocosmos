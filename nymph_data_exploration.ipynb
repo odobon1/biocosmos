{
 "cells": [
  {
   "cell_type": "code",
   "execution_count": null,
   "metadata": {},
   "outputs": [],
   "source": [
    "from collections import Counter\n",
    "import pandas as pd\n",
    "\n",
    "from utils import paths, read_pickle, write_pickle"
   ]
  },
  {
   "cell_type": "code",
   "execution_count": null,
   "metadata": {},
   "outputs": [],
   "source": [
    "tax_nymph = read_pickle(paths[\"metadata_o\"] / \"tax/nymph.pkl\")\n",
    "species_ids = list(tax_nymph[\"found\"].keys())"
   ]
  },
  {
   "cell_type": "markdown",
   "metadata": {},
   "source": [
    "#### total num. samples & species count per num. samples"
   ]
  },
  {
   "cell_type": "code",
   "execution_count": null,
   "metadata": {},
   "outputs": [],
   "source": [
    "tax_nymph = read_pickle(paths[\"metadata_o\"] / \"tax/nymph.pkl\")\n",
    "\n",
    "n_samps_total = 0\n",
    "\n",
    "n_samps_sids = []\n",
    "for sid in tax_nymph[\"found\"].keys():\n",
    "    n_samps = tax_nymph[\"found\"][sid][\"meta\"][\"num_imgs\"]\n",
    "    n_samps_total += n_samps\n",
    "    n_samps_sids.append((n_samps, sid))\n",
    "\n",
    "n_samps_ps, _ = zip(*n_samps_sids)  # `_ps` = \"per sid\"\n",
    "\n",
    "print(f\"Total Samples: {n_samps_total}\\n\")\n",
    "\n",
    "print(\"Sorted Species Count Per Num. Samples (n_samples, n_species):\")\n",
    "count = Counter(n_samps_ps)\n",
    "for c in sorted(count.items()):\n",
    "    print(c)"
   ]
  },
  {
   "cell_type": "markdown",
   "metadata": {},
   "source": [
    "#### num. samples & species id's"
   ]
  },
  {
   "cell_type": "code",
   "execution_count": null,
   "metadata": {},
   "outputs": [],
   "source": [
    "n_samps_sids.sort(key=lambda t: (t[0], t[1]))\n",
    "for n_samps, sid in n_samps_sids:\n",
    "    print(f\"({n_samps}) {sid}\")"
   ]
  },
  {
   "cell_type": "markdown",
   "metadata": {},
   "source": [
    "#### total num. species, total num. genera, & genus count per num. species"
   ]
  },
  {
   "cell_type": "code",
   "execution_count": null,
   "metadata": {},
   "outputs": [],
   "source": [
    "genera = []\n",
    "for s in species_ids:\n",
    "    genera.append(tax_nymph[\"found\"][s][\"tax\"][\"genus\"])\n",
    "\n",
    "n_species = len(species_ids)\n",
    "print(f\"Total Num. Species: {n_species}\\n\")\n",
    "\n",
    "n_genera = len(set(genera))\n",
    "print(f\"Total Num. Genera: {n_genera}\\n\")\n",
    "\n",
    "print(\"Sorted Genus Count Per Num. Species (n_species, n_genera):\")\n",
    "count_g = Counter(genera)\n",
    "count = Counter(count_g.values())\n",
    "for c in sorted(count.items()):\n",
    "    print(c)"
   ]
  },
  {
   "cell_type": "markdown",
   "metadata": {},
   "source": [
    "# metadata explorer"
   ]
  },
  {
   "cell_type": "code",
   "execution_count": null,
   "metadata": {},
   "outputs": [],
   "source": [
    "df_metadata = pd.read_csv(paths[\"nymph_1_metadata\"])\n",
    "df_metadata.head()"
   ]
  },
  {
   "cell_type": "code",
   "execution_count": null,
   "metadata": {},
   "outputs": [],
   "source": [
    "df_metadata = pd.read_csv(paths[\"nymph_2_metadata\"])\n",
    "df_metadata.head()"
   ]
  },
  {
   "cell_type": "code",
   "execution_count": null,
   "metadata": {},
   "outputs": [],
   "source": [
    "df_metadata_sid = df_metadata[df_metadata[\"species\"] == \"heterosais_giulia\"]\n",
    "df_metadata_sid.head()"
   ]
  },
  {
   "cell_type": "code",
   "execution_count": null,
   "metadata": {},
   "outputs": [],
   "source": [
    "df_metadata_sid = df_metadata[df_metadata[\"species\"] == \"heterosais_guilia\"]\n",
    "df_metadata_sid.head()"
   ]
  },
  {
   "cell_type": "code",
   "execution_count": null,
   "metadata": {},
   "outputs": [],
   "source": []
  }
 ],
 "metadata": {
  "kernelspec": {
   "display_name": "Python 3",
   "language": "python",
   "name": "python3"
  },
  "language_info": {
   "codemirror_mode": {
    "name": "ipython",
    "version": 3
   },
   "file_extension": ".py",
   "mimetype": "text/x-python",
   "name": "python",
   "nbconvert_exporter": "python",
   "pygments_lexer": "ipython3",
   "version": "3.10.18"
  }
 },
 "nbformat": 4,
 "nbformat_minor": 2
}
