{
 "cells": [
  {
   "cell_type": "code",
   "execution_count": 1,
   "id": "d4fde04c",
   "metadata": {},
   "outputs": [],
   "source": [
    "import torch\n",
    "\n",
    "from utils_pp import compute_rank_dists, compute_rank_dists_chunked"
   ]
  },
  {
   "cell_type": "code",
   "execution_count": 2,
   "id": "26b31760",
   "metadata": {},
   "outputs": [
    {
     "name": "stdout",
     "output_type": "stream",
     "text": [
      "tensor([[0, 1, 2, 3, 4, 0, 1, 0],\n",
      "        [1, 0, 2, 3, 4, 1, 1, 1],\n",
      "        [2, 2, 0, 3, 4, 2, 2, 2],\n",
      "        [3, 3, 3, 0, 4, 3, 3, 3],\n",
      "        [4, 4, 4, 4, 0, 4, 4, 4],\n",
      "        [0, 1, 2, 3, 4, 0, 1, 0],\n",
      "        [1, 1, 2, 3, 4, 1, 0, 1],\n",
      "        [0, 1, 2, 3, 4, 0, 1, 0]])\n"
     ]
    }
   ],
   "source": [
    "tax_vecs_b = torch.tensor([\n",
    "    [1, 2, 3, 4],\n",
    "    [1, 2, 3, 5],\n",
    "    [1, 2, 0, 0],\n",
    "    [1, 5, 3, 4],\n",
    "    [9, 2, 3, 4],\n",
    "    [1, 2, 3, 4],\n",
    "    [1, 2, 3, 6],\n",
    "    [1, 2, 3, 4],\n",
    "])\n",
    "\n",
    "rank_dists = compute_rank_dists(tax_vecs_b)\n",
    "print(rank_dists)\n"
   ]
  },
  {
   "cell_type": "code",
   "execution_count": 3,
   "id": "09f9f51e",
   "metadata": {},
   "outputs": [
    {
     "name": "stdout",
     "output_type": "stream",
     "text": [
      "tensor([[0, 1, 2, 3, 4, 0, 1, 0],\n",
      "        [1, 0, 2, 3, 4, 1, 1, 1],\n",
      "        [2, 2, 0, 3, 4, 2, 2, 2],\n",
      "        [3, 3, 3, 0, 4, 3, 3, 3],\n",
      "        [4, 4, 4, 4, 0, 4, 4, 4],\n",
      "        [0, 1, 2, 3, 4, 0, 1, 0],\n",
      "        [1, 1, 2, 3, 4, 1, 0, 1],\n",
      "        [0, 1, 2, 3, 4, 0, 1, 0]], dtype=torch.int16)\n"
     ]
    }
   ],
   "source": [
    "rank_dists = compute_rank_dists_chunked(tax_vecs_b, chunk_size=4)\n",
    "print(rank_dists)\n"
   ]
  },
  {
   "cell_type": "code",
   "execution_count": null,
   "id": "68e0f59b",
   "metadata": {},
   "outputs": [],
   "source": []
  }
 ],
 "metadata": {
  "kernelspec": {
   "display_name": "Python 3",
   "language": "python",
   "name": "python3"
  },
  "language_info": {
   "codemirror_mode": {
    "name": "ipython",
    "version": 3
   },
   "file_extension": ".py",
   "mimetype": "text/x-python",
   "name": "python",
   "nbconvert_exporter": "python",
   "pygments_lexer": "ipython3",
   "version": "3.10.18"
  }
 },
 "nbformat": 4,
 "nbformat_minor": 5
}
