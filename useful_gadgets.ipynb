{
 "cells": [
  {
   "cell_type": "code",
   "execution_count": null,
   "metadata": {},
   "outputs": [],
   "source": [
    "import random\n",
    "import pandas as pd\n",
    "from IPython.display import display, Markdown\n",
    "import torch"
   ]
  },
  {
   "cell_type": "markdown",
   "metadata": {},
   "source": [
    "### subset sampler"
   ]
  },
  {
   "cell_type": "code",
   "execution_count": null,
   "metadata": {},
   "outputs": [],
   "source": [
    "def sample_selector(values, k):\n",
    "    \"\"\"\n",
    "    Return k distinct integers sampled uniformly at random from `values` list\n",
    "    \"\"\"\n",
    "    return random.sample(values, k)\n",
    "\n",
    "values = ['a', 'b', 'c', 'd', 'e', 'f']\n",
    "n = 3  # pick 3 distinct items\n",
    "\n",
    "picked = sample_selector(values, n)\n",
    "print(picked)  # e.g. ['d', 'a', 'f']"
   ]
  },
  {
   "cell_type": "markdown",
   "metadata": {},
   "source": [
    "### DF viewing (in Jupyter)"
   ]
  },
  {
   "cell_type": "code",
   "execution_count": null,
   "metadata": {},
   "outputs": [],
   "source": [
    "\n",
    "df = pd.DataFrame({\n",
    "    'family':   ['F1','F1','F1','F2','F2','F2','F3','F3','F3','F3','F3','F3','F1','F2','F3','F1'],\n",
    "    'genus':    ['G1','G1','G2','G3','G3','G4','G5','G5','G6','G6','G6','G6','G2','G4','G7','G7'],\n",
    "    'species':  ['S1','S2','S2','S3','S3','S4','S5','S5','S6','S6','S7','S7','S8','S4','S9','S9'],\n",
    "    'image_id': [f'img_{i}' for i in range(16)]\n",
    "})\n",
    "\n",
    "display(Markdown(\"## Example Dataset\"))\n",
    "display(df)"
   ]
  },
  {
   "cell_type": "markdown",
   "metadata": {},
   "source": [
    "### Tensor indexing: \"advanced\" / \"fancy\" / integer-array indexing"
   ]
  },
  {
   "cell_type": "code",
   "execution_count": null,
   "metadata": {},
   "outputs": [],
   "source": [
    "x = torch.tensor([\n",
    "    [ 1,  2,  3,  4],\n",
    "    [ 5,  6,  7,  8],\n",
    "    [ 9, 10, 11, 12],\n",
    "    [13, 14, 15, 16],\n",
    "    [17, 18, 19, 20]\n",
    "])\n",
    "\n",
    "idxs = torch.tensor([1, 1, 0, 1, 4, 1, 3])\n",
    "x[idxs]"
   ]
  }
 ],
 "metadata": {
  "kernelspec": {
   "display_name": "Python 3",
   "language": "python",
   "name": "python3"
  },
  "language_info": {
   "codemirror_mode": {
    "name": "ipython",
    "version": 3
   },
   "file_extension": ".py",
   "mimetype": "text/x-python",
   "name": "python",
   "nbconvert_exporter": "python",
   "pygments_lexer": "ipython3",
   "version": "3.10.18"
  }
 },
 "nbformat": 4,
 "nbformat_minor": 2
}
